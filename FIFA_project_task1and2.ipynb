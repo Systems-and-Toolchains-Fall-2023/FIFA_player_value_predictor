{
  "cells": [
    {
      "cell_type": "code",
      "execution_count": null,
      "metadata": {
        "colab": {
          "base_uri": "https://localhost:8080/"
        },
        "id": "vW_pXfLt6-Xb",
        "outputId": "2b24a1d9-2944-4991-cbed-9d96fc27cad4"
      },
      "outputs": [
        {
          "output_type": "stream",
          "name": "stdout",
          "text": [
            "Collecting pyspark\n",
            "  Downloading pyspark-3.5.0.tar.gz (316.9 MB)\n",
            "\u001b[2K     \u001b[90m━━━━━━━━━━━━━━━━━━━━━━━━━━━━━━━━━━━━━━━\u001b[0m \u001b[32m316.9/316.9 MB\u001b[0m \u001b[31m2.5 MB/s\u001b[0m eta \u001b[36m0:00:00\u001b[0m\n",
            "\u001b[?25h  Preparing metadata (setup.py) ... \u001b[?25l\u001b[?25hdone\n",
            "Requirement already satisfied: py4j==0.10.9.7 in /usr/local/lib/python3.10/dist-packages (from pyspark) (0.10.9.7)\n",
            "Building wheels for collected packages: pyspark\n",
            "  Building wheel for pyspark (setup.py) ... \u001b[?25l\u001b[?25hdone\n",
            "  Created wheel for pyspark: filename=pyspark-3.5.0-py2.py3-none-any.whl size=317425344 sha256=77293ff7c09bd1a8c2f9d5aaf4799ef618560e556aa4e9694821d85dd0f495fa\n",
            "  Stored in directory: /root/.cache/pip/wheels/41/4e/10/c2cf2467f71c678cfc8a6b9ac9241e5e44a01940da8fbb17fc\n",
            "Successfully built pyspark\n",
            "Installing collected packages: pyspark\n",
            "Successfully installed pyspark-3.5.0\n",
            "--2023-10-11 18:34:17--  https://jdbc.postgresql.org/download/postgresql-42.6.0.jar\n",
            "Resolving jdbc.postgresql.org (jdbc.postgresql.org)... 72.32.157.228, 2001:4800:3e1:1::228\n",
            "Connecting to jdbc.postgresql.org (jdbc.postgresql.org)|72.32.157.228|:443... connected.\n",
            "HTTP request sent, awaiting response... 200 OK\n",
            "Length: 1081604 (1.0M) [application/java-archive]\n",
            "Saving to: ‘postgresql-42.6.0.jar’\n",
            "\n",
            "postgresql-42.6.0.j 100%[===================>]   1.03M  4.96MB/s    in 0.2s    \n",
            "\n",
            "2023-10-11 18:34:18 (4.96 MB/s) - ‘postgresql-42.6.0.jar’ saved [1081604/1081604]\n",
            "\n"
          ]
        }
      ],
      "source": [
        "# only run cell if on google colab\n",
        "!pip install pyspark\n",
        "!wget https://jdbc.postgresql.org/download/postgresql-42.6.0.jar"
      ]
    },
    {
      "cell_type": "code",
      "execution_count": null,
      "metadata": {
        "colab": {
          "base_uri": "https://localhost:8080/"
        },
        "id": "_GFlVHw8FRWh",
        "outputId": "c0b3f0a8-ad81-491b-e144-38d0901f87d3"
      },
      "outputs": [
        {
          "output_type": "stream",
          "name": "stdout",
          "text": [
            "Mounted at /content/drive\n"
          ]
        }
      ],
      "source": [
        "from google.colab import drive\n",
        "drive.mount('/content/drive')"
      ]
    },
    {
      "cell_type": "code",
      "execution_count": null,
      "metadata": {
        "colab": {
          "base_uri": "https://localhost:8080/"
        },
        "id": "YLe9gVP44SmV",
        "outputId": "63dc90ac-dd3c-42c7-f744-bf266812e04b"
      },
      "outputs": [
        {
          "output_type": "stream",
          "name": "stdout",
          "text": [
            "Env: Cloud\n"
          ]
        }
      ],
      "source": [
        "import os\n",
        "from pyspark.sql import SparkSession\n",
        "from pyspark.sql.functions import monotonically_increasing_id, lit\n",
        "from pyspark import SparkContext, SQLContext, SparkConf\n",
        "\n",
        "ENV = None\n",
        "def is_running_in_colab():\n",
        "    try:\n",
        "      from google.colab import drive\n",
        "      return True\n",
        "    except ImportError:\n",
        "      return False\n",
        "\n",
        "# for Colab, put unzipped FIFA dataset at the root of your Google Drive\n",
        "if is_running_in_colab():\n",
        "  ENV = \"cloud\"\n",
        "  print(\"Env: Cloud\")\n",
        "  data_path = \"/content/drive/MyDrive/fifa_dataset\"\n",
        "\n",
        "# for local env, put unzipped FIFA dataset at same level as notebook\n",
        "else:\n",
        "  ENV = \"local\"\n",
        "  print(\"Env: local\")\n",
        "  data_path = \"fifa_dataset\"\n",
        "\n",
        "files_in_folder = os.listdir(data_path)\n",
        "\n",
        "male_player_files = []\n",
        "for file in files_in_folder:\n",
        "  if file[0] == \"p\":\n",
        "    male_player_files.append(file)"
      ]
    },
    {
      "cell_type": "code",
      "execution_count": null,
      "metadata": {
        "colab": {
          "base_uri": "https://localhost:8080/"
        },
        "id": "NMIyEhBe8AYu",
        "outputId": "63513233-f15e-43c1-c438-f8a83b612ed1"
      },
      "outputs": [
        {
          "output_type": "stream",
          "name": "stderr",
          "text": [
            "/usr/local/lib/python3.10/dist-packages/pyspark/sql/context.py:113: FutureWarning: Deprecated in 3.0.0. Use SparkSession.builder.getOrCreate() instead.\n",
            "  warnings.warn(\n"
          ]
        }
      ],
      "source": [
        "appName = \"FIFA Dataset Ingestion\"\n",
        "master = \"local\"\n",
        "\n",
        "# Create Configuration object for Spark.\n",
        "conf = SparkConf()\\\n",
        "    .set('spark.driver.host','127.0.0.1')\\\n",
        "    .setAppName(appName)\\\n",
        "    .setMaster(master)\n",
        "\n",
        "sc = SparkContext.getOrCreate(conf=conf)\n",
        "sqlContext = SQLContext(sc)\n",
        "spark = sqlContext.sparkSession.builder.getOrCreate()\n",
        "\n"
      ]
    },
    {
      "cell_type": "code",
      "execution_count": null,
      "metadata": {
        "colab": {
          "base_uri": "https://localhost:8080/"
        },
        "id": "GnEZYfwUDL1x",
        "outputId": "c1e86167-776b-4599-e0f9-13aff3dc96dd"
      },
      "outputs": [
        {
          "output_type": "stream",
          "name": "stdout",
          "text": [
            "root\n",
            " |-- sofifa_id: integer (nullable = true)\n",
            " |-- player_url: string (nullable = true)\n",
            " |-- short_name: string (nullable = true)\n",
            " |-- long_name: string (nullable = true)\n",
            " |-- player_positions: string (nullable = true)\n",
            " |-- overall: integer (nullable = true)\n",
            " |-- potential: integer (nullable = true)\n",
            " |-- value_eur: double (nullable = true)\n",
            " |-- wage_eur: double (nullable = true)\n",
            " |-- age: integer (nullable = true)\n",
            " |-- dob: date (nullable = true)\n",
            " |-- height_cm: integer (nullable = true)\n",
            " |-- weight_kg: integer (nullable = true)\n",
            " |-- club_team_id: double (nullable = true)\n",
            " |-- club_name: string (nullable = true)\n",
            " |-- league_name: string (nullable = true)\n",
            " |-- league_level: integer (nullable = true)\n",
            " |-- club_position: string (nullable = true)\n",
            " |-- club_jersey_number: integer (nullable = true)\n",
            " |-- club_loaned_from: string (nullable = true)\n",
            " |-- club_joined: date (nullable = true)\n",
            " |-- club_contract_valid_until: integer (nullable = true)\n",
            " |-- nationality_id: integer (nullable = true)\n",
            " |-- nationality_name: string (nullable = true)\n",
            " |-- nation_team_id: double (nullable = true)\n",
            " |-- nation_position: string (nullable = true)\n",
            " |-- nation_jersey_number: integer (nullable = true)\n",
            " |-- preferred_foot: string (nullable = true)\n",
            " |-- weak_foot: integer (nullable = true)\n",
            " |-- skill_moves: integer (nullable = true)\n",
            " |-- international_reputation: integer (nullable = true)\n",
            " |-- work_rate: string (nullable = true)\n",
            " |-- body_type: string (nullable = true)\n",
            " |-- real_face: string (nullable = true)\n",
            " |-- release_clause_eur: string (nullable = true)\n",
            " |-- player_tags: string (nullable = true)\n",
            " |-- player_traits: string (nullable = true)\n",
            " |-- pace: integer (nullable = true)\n",
            " |-- shooting: integer (nullable = true)\n",
            " |-- passing: integer (nullable = true)\n",
            " |-- dribbling: integer (nullable = true)\n",
            " |-- defending: integer (nullable = true)\n",
            " |-- physic: integer (nullable = true)\n",
            " |-- attacking_crossing: integer (nullable = true)\n",
            " |-- attacking_finishing: integer (nullable = true)\n",
            " |-- attacking_heading_accuracy: integer (nullable = true)\n",
            " |-- attacking_short_passing: integer (nullable = true)\n",
            " |-- attacking_volleys: integer (nullable = true)\n",
            " |-- skill_dribbling: integer (nullable = true)\n",
            " |-- skill_curve: integer (nullable = true)\n",
            " |-- skill_fk_accuracy: integer (nullable = true)\n",
            " |-- skill_long_passing: integer (nullable = true)\n",
            " |-- skill_ball_control: integer (nullable = true)\n",
            " |-- movement_acceleration: integer (nullable = true)\n",
            " |-- movement_sprint_speed: integer (nullable = true)\n",
            " |-- movement_agility: integer (nullable = true)\n",
            " |-- movement_reactions: integer (nullable = true)\n",
            " |-- movement_balance: integer (nullable = true)\n",
            " |-- power_shot_power: integer (nullable = true)\n",
            " |-- power_jumping: integer (nullable = true)\n",
            " |-- power_stamina: integer (nullable = true)\n",
            " |-- power_strength: integer (nullable = true)\n",
            " |-- power_long_shots: integer (nullable = true)\n",
            " |-- mentality_aggression: integer (nullable = true)\n",
            " |-- mentality_interceptions: integer (nullable = true)\n",
            " |-- mentality_positioning: integer (nullable = true)\n",
            " |-- mentality_vision: integer (nullable = true)\n",
            " |-- mentality_penalties: integer (nullable = true)\n",
            " |-- mentality_composure: string (nullable = true)\n",
            " |-- defending_marking_awareness: integer (nullable = true)\n",
            " |-- defending_standing_tackle: integer (nullable = true)\n",
            " |-- defending_sliding_tackle: integer (nullable = true)\n",
            " |-- goalkeeping_diving: integer (nullable = true)\n",
            " |-- goalkeeping_handling: integer (nullable = true)\n",
            " |-- goalkeeping_kicking: integer (nullable = true)\n",
            " |-- goalkeeping_positioning: integer (nullable = true)\n",
            " |-- goalkeeping_reflexes: integer (nullable = true)\n",
            " |-- goalkeeping_speed: integer (nullable = true)\n",
            " |-- ls: string (nullable = true)\n",
            " |-- st: string (nullable = true)\n",
            " |-- rs: string (nullable = true)\n",
            " |-- lw: string (nullable = true)\n",
            " |-- lf: string (nullable = true)\n",
            " |-- cf: string (nullable = true)\n",
            " |-- rf: string (nullable = true)\n",
            " |-- rw: string (nullable = true)\n",
            " |-- lam: string (nullable = true)\n",
            " |-- cam: string (nullable = true)\n",
            " |-- ram: string (nullable = true)\n",
            " |-- lm: string (nullable = true)\n",
            " |-- lcm: string (nullable = true)\n",
            " |-- cm: string (nullable = true)\n",
            " |-- rcm: string (nullable = true)\n",
            " |-- rm: string (nullable = true)\n",
            " |-- lwb: string (nullable = true)\n",
            " |-- ldm: string (nullable = true)\n",
            " |-- cdm: string (nullable = true)\n",
            " |-- rdm: string (nullable = true)\n",
            " |-- rwb: string (nullable = true)\n",
            " |-- lb: string (nullable = true)\n",
            " |-- lcb: string (nullable = true)\n",
            " |-- cb: string (nullable = true)\n",
            " |-- rcb: string (nullable = true)\n",
            " |-- rb: string (nullable = true)\n",
            " |-- gk: string (nullable = true)\n",
            " |-- player_face_url: string (nullable = true)\n",
            " |-- club_logo_url: string (nullable = true)\n",
            " |-- club_flag_url: string (nullable = true)\n",
            " |-- nation_logo_url: string (nullable = true)\n",
            " |-- nation_flag_url: string (nullable = true)\n",
            " |-- year: integer (nullable = true)\n",
            " |-- unique_id: long (nullable = false)\n",
            "\n"
          ]
        }
      ],
      "source": [
        "master_df = None\n",
        "for file in male_player_files:\n",
        "  filepath = f\"{data_path}/{file}\"\n",
        "  current_df = spark.read.csv(filepath, header=True, inferSchema=True)\n",
        "  year = f\"20{file.split('_')[-1].split('.')[0]}\"\n",
        "  current_df = current_df.withColumn(\"year\", lit(year).cast(\"int\"))\n",
        "  if not master_df:\n",
        "    master_df = current_df\n",
        "  else:\n",
        "    master_df = master_df.union(current_df)\n",
        "\n",
        "master_df = master_df.withColumn(\"unique_id\", monotonically_increasing_id())\n",
        "\n",
        "master_df.printSchema()"
      ]
    },
    {
      "cell_type": "code",
      "execution_count": null,
      "metadata": {
        "id": "iB2kk1xbGFop"
      },
      "outputs": [],
      "source": [
        "if ENV == \"local\":\n",
        "#adding combined player data to Postgres DB\n",
        "  db_properties={}\n",
        "  db_properties['username']=\"postgres\"\n",
        "  db_properties['password']=\"bigdata\"\n",
        "  db_properties['url']= \"jdbc:postgresql://localhost:5432/FIFA_project\"\n",
        "  db_properties['table']=\"fifa\"\n",
        "  db_properties['driver']=\"org.postgresql.Driver\"\n",
        "\n",
        "  master_df.write.format(\"jdbc\")\\\n",
        "  .mode(\"overwrite\")\\\n",
        "  .option(\"url\", db_properties['url'])\\\n",
        "  .option(\"dbtable\", db_properties['table'])\\\n",
        "  .option(\"user\", db_properties['username'])\\\n",
        "  .option(\"password\", db_properties['password'])\\\n",
        "  .option(\"driver\", db_properties['driver'])\\\n",
        "  .option(\"isolationLevel\", \"NONE\")\\\n",
        "  .save()\n",
        "\n",
        "else:\n",
        "  # write GCP PostgreSQL connection code here\n",
        "  pass"
      ]
    },
    {
      "cell_type": "code",
      "execution_count": null,
      "metadata": {
        "colab": {
          "base_uri": "https://localhost:8080/"
        },
        "id": "XF0Ouqo_FvRh",
        "outputId": "83269ae5-c6ca-40d1-da14-3da70b5fe310"
      },
      "outputs": [
        {
          "output_type": "stream",
          "name": "stdout",
          "text": [
            "+--------------------+--------------+\n",
            "|           club_name|contract_count|\n",
            "+--------------------+--------------+\n",
            "|En Avant de Guingamp|            19|\n",
            "| Club Atlético Lanús|            17|\n",
            "|       Lechia Gdańsk|            17|\n",
            "|            Barnsley|            16|\n",
            "|        Kasimpaşa SK|            16|\n",
            "|        Bengaluru FC|            16|\n",
            "|              Al Tai|            15|\n",
            "|            KAA Gent|            15|\n",
            "|      Zagłębie Lubin|            15|\n",
            "|        FC Barcelona|            15|\n",
            "|          CA Osasuna|            15|\n",
            "|  SV Wehen Wiesbaden|            15|\n",
            "|       Coventry City|            15|\n",
            "|San Lorenzo de Al...|            14|\n",
            "|          1. FC Köln|            14|\n",
            "|           SV Meppen|            14|\n",
            "|      Crystal Palace|            14|\n",
            "|         Perth Glory|            14|\n",
            "|  Real Valladolid CF|            14|\n",
            "|Brighton & Hove A...|            14|\n",
            "+--------------------+--------------+\n",
            "only showing top 20 rows\n",
            "\n"
          ]
        }
      ],
      "source": [
        "from pyspark.sql.functions import count, desc\n",
        "\n",
        "def two_one(X):\n",
        "  # only using players listed in the 2022 dataset\n",
        "  df_2022 = master_df.filter(master_df['year'] == 2022)\n",
        "\n",
        "  # filter for players with contract valid until 2023\n",
        "  df_23 = df_2022.filter(df_2022['club_contract_valid_until'] == 2023)\n",
        "\n",
        "  # find X clubs with highest number of players that fulfill conditions\n",
        "  x_res = df_23.groupBy(\"club_name\").agg(count(\"*\").alias(\"contract_count\"))\n",
        "  x_res = x_res.orderBy(desc(\"contract_count\"))\n",
        "  x_res.show(X)\n",
        "\n",
        "two_one(5)"
      ]
    },
    {
      "cell_type": "code",
      "execution_count": null,
      "metadata": {
        "colab": {
          "base_uri": "https://localhost:8080/"
        },
        "id": "Knz04vGGGk0J",
        "outputId": "82f9d069-7dbe-4f61-eec0-0f142b6777ca"
      },
      "outputs": [
        {
          "output_type": "stream",
          "name": "stdout",
          "text": [
            "+--------------------+-------+----+\n",
            "|           club_name|avg_27+|rank|\n",
            "+--------------------+-------+----+\n",
            "|  Dorados de Sinaloa|   19.0|   1|\n",
            "| Matsumoto Yamaga FC|   19.0|   1|\n",
            "| Shanghai Shenhua FC|   18.5|   2|\n",
            "|          Qingdao FC|   18.0|   3|\n",
            "|Club Deportivo Jo...|   17.5|   4|\n",
            "|            Altay SK|   17.0|   5|\n",
            "|         Guaireña FC|   17.0|   5|\n",
            "+--------------------+-------+----+\n",
            "\n"
          ]
        }
      ],
      "source": [
        "# y clubs w highest avg players 27+\n",
        "from pyspark.sql.functions import col, avg, when,sum, countDistinct, desc, dense_rank\n",
        "from pyspark.sql.window import Window\n",
        "\n",
        "def two_two(Y):\n",
        "\n",
        "  # create column denoting whether a players age is >= 27\n",
        "  df_27 = master_df.withColumn(\"27+\",when(col(\"age\")>27,1).otherwise(0))\n",
        "\n",
        "  # sum up\n",
        "  y_res = df_27.groupBy(\"year\",\"club_name\").agg(sum(\"27+\").alias(\"27+\"))\n",
        "  y_res = y_res.groupBy('club_name').agg(sum(\"27+\") / countDistinct(\"year\"))\n",
        "  y_res = y_res.withColumnRenamed('(sum(27+) / count(year))', \"avg_27+\")\n",
        "  y_res = y_res.orderBy(desc(\"avg_27+\"))\n",
        "  y_res = y_res.filter(col(\"club_name\").isNotNull())\n",
        "\n",
        "  # grab top Y clubs with the highest average age over 27\n",
        "  window_spec = Window.partitionBy().orderBy(desc(\"avg_27+\"))\n",
        "  y_res = y_res.withColumn(\"rank\",dense_rank().over(window_spec))\n",
        "  top_y = y_res.filter(col(\"rank\") <= Y)\n",
        "\n",
        "  top_y.show()\n",
        "\n",
        "two_two(5)"
      ]
    },
    {
      "cell_type": "code",
      "execution_count": null,
      "metadata": {
        "colab": {
          "base_uri": "https://localhost:8080/"
        },
        "id": "QC8x5dCsQQT2",
        "outputId": "d33ad524-71f3-4dbb-d7c5-ffb51acf758d"
      },
      "outputs": [
        {
          "output_type": "stream",
          "name": "stdout",
          "text": [
            "+----+--------+\n",
            "|year|freq_pos|\n",
            "+----+--------+\n",
            "|2015|     SUB|\n",
            "|2016|     SUB|\n",
            "|2017|     SUB|\n",
            "|2018|     SUB|\n",
            "|2019|     SUB|\n",
            "|2020|     SUB|\n",
            "|2021|     SUB|\n",
            "|2022|     SUB|\n",
            "+----+--------+\n",
            "\n"
          ]
        }
      ],
      "source": [
        "# most frequent nation position by year\n",
        "from pyspark.sql.functions import max, count\n",
        "\n",
        "\n",
        "freq_np = master_df.groupBy(\"year\", \"nation_position\").agg(count(\"*\"))\n",
        "freq_np = freq_np.orderBy(\"year\",col(\"count(1)\").desc())\n",
        "freq_np = freq_np.filter(col(\"nation_position\").isNotNull())\n",
        "freq_np_res = freq_np.groupBy('year').agg(max(\"nation_position\").alias(\"freq_pos\"))\n",
        "freq_np_res.show()\n",
        "\n"
      ]
    }
  ],
  "metadata": {
    "colab": {
      "provenance": []
    },
    "kernelspec": {
      "display_name": "Python 3",
      "name": "python3"
    },
    "language_info": {
      "name": "python"
    }
  },
  "nbformat": 4,
  "nbformat_minor": 0
}